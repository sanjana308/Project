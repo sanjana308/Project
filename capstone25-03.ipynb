{
 "cells": [
  {
   "cell_type": "code",
   "execution_count": 1,
   "metadata": {},
   "outputs": [],
   "source": [
    "import pandas as pd\n",
    "import numpy as np\n",
    "import matplotlib.pyplot as plt\n",
    "%matplotlib inline\n"
   ]
  },
  {
   "cell_type": "code",
   "execution_count": 2,
   "metadata": {},
   "outputs": [],
   "source": [
    "df1 =pd.read_csv(\"Companies.csv\")"
   ]
  },
  {
   "cell_type": "code",
   "execution_count": 3,
   "metadata": {},
   "outputs": [
    {
     "data": {
      "text/html": [
       "<div>\n",
       "<style scoped>\n",
       "    .dataframe tbody tr th:only-of-type {\n",
       "        vertical-align: middle;\n",
       "    }\n",
       "\n",
       "    .dataframe tbody tr th {\n",
       "        vertical-align: top;\n",
       "    }\n",
       "\n",
       "    .dataframe thead th {\n",
       "        text-align: right;\n",
       "    }\n",
       "</style>\n",
       "<table border=\"1\" class=\"dataframe\">\n",
       "  <thead>\n",
       "    <tr style=\"text-align: right;\">\n",
       "      <th></th>\n",
       "      <th>Date</th>\n",
       "      <th>Open</th>\n",
       "      <th>High</th>\n",
       "      <th>Low</th>\n",
       "      <th>Close</th>\n",
       "      <th>Volume</th>\n",
       "      <th>Company</th>\n",
       "    </tr>\n",
       "  </thead>\n",
       "  <tbody>\n",
       "    <tr>\n",
       "      <th>0</th>\n",
       "      <td>02/11/09</td>\n",
       "      <td>13.767143</td>\n",
       "      <td>14.044286</td>\n",
       "      <td>13.681429</td>\n",
       "      <td>13.831429</td>\n",
       "      <td>168743400</td>\n",
       "      <td>Apple</td>\n",
       "    </tr>\n",
       "    <tr>\n",
       "      <th>1</th>\n",
       "      <td>02/12/09</td>\n",
       "      <td>13.690000</td>\n",
       "      <td>14.250000</td>\n",
       "      <td>13.690000</td>\n",
       "      <td>14.181429</td>\n",
       "      <td>204297100</td>\n",
       "      <td>Apple</td>\n",
       "    </tr>\n",
       "    <tr>\n",
       "      <th>2</th>\n",
       "      <td>2/13/2009</td>\n",
       "      <td>14.141429</td>\n",
       "      <td>14.277143</td>\n",
       "      <td>14.017143</td>\n",
       "      <td>14.165714</td>\n",
       "      <td>152244400</td>\n",
       "      <td>Apple</td>\n",
       "    </tr>\n",
       "    <tr>\n",
       "      <th>3</th>\n",
       "      <td>2/17/2009</td>\n",
       "      <td>13.838572</td>\n",
       "      <td>13.862857</td>\n",
       "      <td>13.468572</td>\n",
       "      <td>13.504286</td>\n",
       "      <td>169559600</td>\n",
       "      <td>Apple</td>\n",
       "    </tr>\n",
       "    <tr>\n",
       "      <th>4</th>\n",
       "      <td>2/18/2009</td>\n",
       "      <td>13.578571</td>\n",
       "      <td>13.692857</td>\n",
       "      <td>13.245714</td>\n",
       "      <td>13.481428</td>\n",
       "      <td>171194800</td>\n",
       "      <td>Apple</td>\n",
       "    </tr>\n",
       "  </tbody>\n",
       "</table>\n",
       "</div>"
      ],
      "text/plain": [
       "        Date       Open       High        Low      Close     Volume Company\n",
       "0   02/11/09  13.767143  14.044286  13.681429  13.831429  168743400   Apple\n",
       "1   02/12/09  13.690000  14.250000  13.690000  14.181429  204297100   Apple\n",
       "2  2/13/2009  14.141429  14.277143  14.017143  14.165714  152244400   Apple\n",
       "3  2/17/2009  13.838572  13.862857  13.468572  13.504286  169559600   Apple\n",
       "4  2/18/2009  13.578571  13.692857  13.245714  13.481428  171194800   Apple"
      ]
     },
     "execution_count": 3,
     "metadata": {},
     "output_type": "execute_result"
    }
   ],
   "source": [
    "df1.head()"
   ]
  },
  {
   "cell_type": "code",
   "execution_count": 4,
   "metadata": {},
   "outputs": [
    {
     "data": {
      "text/html": [
       "<div>\n",
       "<style scoped>\n",
       "    .dataframe tbody tr th:only-of-type {\n",
       "        vertical-align: middle;\n",
       "    }\n",
       "\n",
       "    .dataframe tbody tr th {\n",
       "        vertical-align: top;\n",
       "    }\n",
       "\n",
       "    .dataframe thead th {\n",
       "        text-align: right;\n",
       "    }\n",
       "</style>\n",
       "<table border=\"1\" class=\"dataframe\">\n",
       "  <thead>\n",
       "    <tr style=\"text-align: right;\">\n",
       "      <th></th>\n",
       "      <th>Date</th>\n",
       "      <th>Open</th>\n",
       "      <th>High</th>\n",
       "      <th>Low</th>\n",
       "      <th>Close</th>\n",
       "      <th>Volume</th>\n",
       "      <th>Company</th>\n",
       "    </tr>\n",
       "  </thead>\n",
       "  <tbody>\n",
       "    <tr>\n",
       "      <th>23921</th>\n",
       "      <td>02/04/20</td>\n",
       "      <td>2029.88</td>\n",
       "      <td>2059.80</td>\n",
       "      <td>2015.37</td>\n",
       "      <td>2049.67</td>\n",
       "      <td>5255893</td>\n",
       "      <td>Amazon</td>\n",
       "    </tr>\n",
       "    <tr>\n",
       "      <th>23922</th>\n",
       "      <td>02/05/20</td>\n",
       "      <td>2071.02</td>\n",
       "      <td>2071.02</td>\n",
       "      <td>2032.00</td>\n",
       "      <td>2039.87</td>\n",
       "      <td>4376174</td>\n",
       "      <td>Amazon</td>\n",
       "    </tr>\n",
       "    <tr>\n",
       "      <th>23923</th>\n",
       "      <td>02/06/20</td>\n",
       "      <td>2041.02</td>\n",
       "      <td>2056.30</td>\n",
       "      <td>2024.80</td>\n",
       "      <td>2050.23</td>\n",
       "      <td>3058878</td>\n",
       "      <td>Amazon</td>\n",
       "    </tr>\n",
       "    <tr>\n",
       "      <th>23924</th>\n",
       "      <td>02/07/20</td>\n",
       "      <td>2041.99</td>\n",
       "      <td>2098.53</td>\n",
       "      <td>2038.10</td>\n",
       "      <td>2079.28</td>\n",
       "      <td>5074635</td>\n",
       "      <td>Amazon</td>\n",
       "    </tr>\n",
       "    <tr>\n",
       "      <th>23925</th>\n",
       "      <td>02/10/20</td>\n",
       "      <td>2085.01</td>\n",
       "      <td>2135.60</td>\n",
       "      <td>2084.96</td>\n",
       "      <td>2133.91</td>\n",
       "      <td>5056235</td>\n",
       "      <td>Amazon</td>\n",
       "    </tr>\n",
       "  </tbody>\n",
       "</table>\n",
       "</div>"
      ],
      "text/plain": [
       "           Date     Open     High      Low    Close   Volume Company\n",
       "23921  02/04/20  2029.88  2059.80  2015.37  2049.67  5255893  Amazon\n",
       "23922  02/05/20  2071.02  2071.02  2032.00  2039.87  4376174  Amazon\n",
       "23923  02/06/20  2041.02  2056.30  2024.80  2050.23  3058878  Amazon\n",
       "23924  02/07/20  2041.99  2098.53  2038.10  2079.28  5074635  Amazon\n",
       "23925  02/10/20  2085.01  2135.60  2084.96  2133.91  5056235  Amazon"
      ]
     },
     "execution_count": 4,
     "metadata": {},
     "output_type": "execute_result"
    }
   ],
   "source": [
    "df1.tail()"
   ]
  },
  {
   "cell_type": "code",
   "execution_count": 5,
   "metadata": {},
   "outputs": [
    {
     "name": "stdout",
     "output_type": "stream",
     "text": [
      "Date        object\n",
      "Open       float64\n",
      "High       float64\n",
      "Low        float64\n",
      "Close      float64\n",
      "Volume       int64\n",
      "Company     object\n",
      "dtype: object\n"
     ]
    }
   ],
   "source": [
    "print (df1.dtypes)"
   ]
  },
  {
   "cell_type": "code",
   "execution_count": 6,
   "metadata": {},
   "outputs": [
    {
     "data": {
      "text/html": [
       "<div>\n",
       "<style scoped>\n",
       "    .dataframe tbody tr th:only-of-type {\n",
       "        vertical-align: middle;\n",
       "    }\n",
       "\n",
       "    .dataframe tbody tr th {\n",
       "        vertical-align: top;\n",
       "    }\n",
       "\n",
       "    .dataframe thead th {\n",
       "        text-align: right;\n",
       "    }\n",
       "</style>\n",
       "<table border=\"1\" class=\"dataframe\">\n",
       "  <thead>\n",
       "    <tr style=\"text-align: right;\">\n",
       "      <th></th>\n",
       "      <th>Open</th>\n",
       "      <th>High</th>\n",
       "      <th>Low</th>\n",
       "      <th>Close</th>\n",
       "      <th>Volume</th>\n",
       "    </tr>\n",
       "  </thead>\n",
       "  <tbody>\n",
       "    <tr>\n",
       "      <th>count</th>\n",
       "      <td>23926.000000</td>\n",
       "      <td>23926.000000</td>\n",
       "      <td>23926.000000</td>\n",
       "      <td>23926.000000</td>\n",
       "      <td>2.392600e+04</td>\n",
       "    </tr>\n",
       "    <tr>\n",
       "      <th>mean</th>\n",
       "      <td>140.461368</td>\n",
       "      <td>142.035341</td>\n",
       "      <td>138.769354</td>\n",
       "      <td>140.471459</td>\n",
       "      <td>2.629321e+07</td>\n",
       "    </tr>\n",
       "    <tr>\n",
       "      <th>std</th>\n",
       "      <td>278.767692</td>\n",
       "      <td>281.314256</td>\n",
       "      <td>275.730471</td>\n",
       "      <td>278.654991</td>\n",
       "      <td>3.473145e+07</td>\n",
       "    </tr>\n",
       "    <tr>\n",
       "      <th>min</th>\n",
       "      <td>1.406700</td>\n",
       "      <td>1.448300</td>\n",
       "      <td>1.312500</td>\n",
       "      <td>1.395800</td>\n",
       "      <td>1.185000e+05</td>\n",
       "    </tr>\n",
       "    <tr>\n",
       "      <th>25%</th>\n",
       "      <td>30.639999</td>\n",
       "      <td>30.990000</td>\n",
       "      <td>30.299999</td>\n",
       "      <td>30.692501</td>\n",
       "      <td>6.750150e+06</td>\n",
       "    </tr>\n",
       "    <tr>\n",
       "      <th>50%</th>\n",
       "      <td>56.830002</td>\n",
       "      <td>57.490002</td>\n",
       "      <td>56.279999</td>\n",
       "      <td>56.900002</td>\n",
       "      <td>1.432005e+07</td>\n",
       "    </tr>\n",
       "    <tr>\n",
       "      <th>75%</th>\n",
       "      <td>126.137501</td>\n",
       "      <td>127.442497</td>\n",
       "      <td>124.800002</td>\n",
       "      <td>126.169998</td>\n",
       "      <td>3.166238e+07</td>\n",
       "    </tr>\n",
       "    <tr>\n",
       "      <th>max</th>\n",
       "      <td>2085.010000</td>\n",
       "      <td>2135.600000</td>\n",
       "      <td>2084.960000</td>\n",
       "      <td>2133.910000</td>\n",
       "      <td>5.735764e+08</td>\n",
       "    </tr>\n",
       "  </tbody>\n",
       "</table>\n",
       "</div>"
      ],
      "text/plain": [
       "               Open          High           Low         Close        Volume\n",
       "count  23926.000000  23926.000000  23926.000000  23926.000000  2.392600e+04\n",
       "mean     140.461368    142.035341    138.769354    140.471459  2.629321e+07\n",
       "std      278.767692    281.314256    275.730471    278.654991  3.473145e+07\n",
       "min        1.406700      1.448300      1.312500      1.395800  1.185000e+05\n",
       "25%       30.639999     30.990000     30.299999     30.692501  6.750150e+06\n",
       "50%       56.830002     57.490002     56.279999     56.900002  1.432005e+07\n",
       "75%      126.137501    127.442497    124.800002    126.169998  3.166238e+07\n",
       "max     2085.010000   2135.600000   2084.960000   2133.910000  5.735764e+08"
      ]
     },
     "execution_count": 6,
     "metadata": {},
     "output_type": "execute_result"
    }
   ],
   "source": [
    "df1.describe()"
   ]
  },
  {
   "cell_type": "code",
   "execution_count": 7,
   "metadata": {},
   "outputs": [
    {
     "data": {
      "text/plain": [
       "(23926, 7)"
      ]
     },
     "execution_count": 7,
     "metadata": {},
     "output_type": "execute_result"
    }
   ],
   "source": [
    "df1.shape"
   ]
  },
  {
   "cell_type": "code",
   "execution_count": 8,
   "metadata": {},
   "outputs": [],
   "source": [
    "df1['High'] = df1['High'].astype(float)\n",
    "df1['Close'] = df1['Close'].astype(float)\n",
    "df1['Low'] = df1['Low'].astype(float)"
   ]
  },
  {
   "cell_type": "code",
   "execution_count": 9,
   "metadata": {},
   "outputs": [],
   "source": [
    "df1= df1.drop('Date', axis=1)"
   ]
  },
  {
   "cell_type": "code",
   "execution_count": 10,
   "metadata": {},
   "outputs": [],
   "source": [
    "X = df1.drop('Company', axis=1)\n",
    "y = df1['Company']"
   ]
  },
  {
   "cell_type": "code",
   "execution_count": 11,
   "metadata": {},
   "outputs": [],
   "source": [
    "X=df1['High']\n",
    "y = df1['Low']"
   ]
  },
  {
   "cell_type": "code",
   "execution_count": 12,
   "metadata": {},
   "outputs": [
    {
     "data": {
      "text/plain": [
       "0          13.681429\n",
       "1          13.690000\n",
       "2          14.017143\n",
       "3          13.468572\n",
       "4          13.245714\n",
       "5          12.872857\n",
       "6          12.714286\n",
       "7          12.358571\n",
       "8          12.428572\n",
       "9          12.750000\n",
       "10         12.708571\n",
       "11         12.524285\n",
       "12         12.524285\n",
       "13         12.554286\n",
       "14         12.778571\n",
       "15         12.635715\n",
       "16         11.761429\n",
       "17         11.795714\n",
       "18         12.051429\n",
       "19         12.797143\n",
       "20         13.142858\n",
       "21         13.572857\n",
       "22         13.454286\n",
       "23         13.581429\n",
       "24         14.245714\n",
       "25         14.321428\n",
       "26         14.367143\n",
       "27         14.535714\n",
       "28         15.055715\n",
       "29         14.837143\n",
       "            ...     \n",
       "23896    1866.010000\n",
       "23897    1840.620000\n",
       "23898    1832.230000\n",
       "23899    1864.150000\n",
       "23900    1864.500000\n",
       "23901    1860.000000\n",
       "23902    1892.040000\n",
       "23903    1886.440000\n",
       "23904    1895.800000\n",
       "23905    1880.000000\n",
       "23906    1880.800000\n",
       "23907    1858.550000\n",
       "23908    1855.090000\n",
       "23909    1866.020000\n",
       "23910    1857.250000\n",
       "23911    1860.000000\n",
       "23912    1883.340000\n",
       "23913    1872.760000\n",
       "23914    1847.440000\n",
       "23915    1815.340000\n",
       "23916    1830.020000\n",
       "23917    1855.020000\n",
       "23918    1850.610000\n",
       "23919    2002.270000\n",
       "23920    2000.250000\n",
       "23921    2015.370000\n",
       "23922    2032.000000\n",
       "23923    2024.800000\n",
       "23924    2038.100000\n",
       "23925    2084.960000\n",
       "Name: Low, Length: 23926, dtype: float64"
      ]
     },
     "execution_count": 12,
     "metadata": {},
     "output_type": "execute_result"
    }
   ],
   "source": [
    "y"
   ]
  },
  {
   "cell_type": "code",
   "execution_count": 19,
   "metadata": {},
   "outputs": [],
   "source": [
    "from sklearn.model_selection import train_test_split\n",
    "X_train, X_test, y_train, y_test = train_test_split(X, y, test_size = 0.20, random_state=100)"
   ]
  },
  {
   "cell_type": "code",
   "execution_count": 20,
   "metadata": {},
   "outputs": [],
   "source": [
    "X_train = X_train.values.reshape(-1, 1)\n",
    "X_test = X_test.values.reshape(-1, 1)"
   ]
  },
  {
   "cell_type": "code",
   "execution_count": 21,
   "metadata": {},
   "outputs": [
    {
     "data": {
      "text/plain": [
       "2516     169.250000\n",
       "20437     36.480000\n",
       "1964     110.070000\n",
       "9782      91.400002\n",
       "21515    121.474900\n",
       "10894     49.250000\n",
       "22267    289.400000\n",
       "7988      26.600000\n",
       "19642     21.570000\n",
       "4828      32.610001\n",
       "13892     21.520000\n",
       "18285      3.125000\n",
       "18413      6.583300\n",
       "21125     50.120000\n",
       "16877    235.059998\n",
       "9933     109.400002\n",
       "9430      60.150002\n",
       "6828     151.509995\n",
       "835       79.761429\n",
       "16547    122.349998\n",
       "21464    136.910000\n",
       "5683      26.950001\n",
       "23264    998.020000\n",
       "19493     13.000000\n",
       "17137    213.630005\n",
       "9909     111.629997\n",
       "16392     31.520000\n",
       "21446    131.180000\n",
       "595       46.054287\n",
       "1380      94.709999\n",
       "            ...    \n",
       "3213      19.340000\n",
       "21377    134.350000\n",
       "18284      3.031700\n",
       "5787      25.590000\n",
       "18818     77.060000\n",
       "6230      78.099998\n",
       "15453     56.770000\n",
       "5769      26.000000\n",
       "9723      87.860001\n",
       "11152     61.970001\n",
       "7738      28.650000\n",
       "17724    323.929993\n",
       "11492     75.120003\n",
       "20760     73.000000\n",
       "10992     58.529999\n",
       "13297     12.075000\n",
       "17186    195.880005\n",
       "5646      22.850000\n",
       "7906      25.100000\n",
       "13890     22.545000\n",
       "20533     27.830000\n",
       "10082    131.639999\n",
       "14260     36.770000\n",
       "16734    206.419998\n",
       "16304     31.250000\n",
       "79        20.458570\n",
       "12119     54.950001\n",
       "14147     36.259998\n",
       "23320    979.420000\n",
       "5640      19.299999\n",
       "Name: Low, Length: 19140, dtype: float64"
      ]
     },
     "execution_count": 21,
     "metadata": {},
     "output_type": "execute_result"
    }
   ],
   "source": [
    "y_train"
   ]
  },
  {
   "cell_type": "code",
   "execution_count": 22,
   "metadata": {},
   "outputs": [
    {
     "name": "stderr",
     "output_type": "stream",
     "text": [
      "/Users/sanjana/anaconda3/lib/python3.7/site-packages/sklearn/svm/base.py:196: FutureWarning: The default value of gamma will change from 'auto' to 'scale' in version 0.22 to account better for unscaled features. Set gamma explicitly to 'auto' or 'scale' to avoid this warning.\n",
      "  \"avoid this warning.\", FutureWarning)\n"
     ]
    },
    {
     "name": "stdout",
     "output_type": "stream",
     "text": [
      "0.07555221558242164\n",
      "0.0807612978707124\n"
     ]
    }
   ],
   "source": [
    "from sklearn.svm import SVR \n",
    "svr = SVR()\n",
    "svr.fit(X_train, y_train)\n",
    "print(svr.score(X_train, y_train))\n",
    "print(svr.score(X_test, y_test))"
   ]
  },
  {
   "cell_type": "code",
   "execution_count": 32,
   "metadata": {},
   "outputs": [
    {
     "name": "stdout",
     "output_type": "stream",
     "text": [
      "Model training score is: 0.9992758903053951\n",
      "Model test score is: 0.9991370873297999\n"
     ]
    }
   ],
   "source": [
    "from sklearn.ensemble import RandomForestRegressor\n",
    "model = RandomForestRegressor(n_estimators=100,max_depth=5,max_features=None,max_leaf_nodes=None,min_samples_leaf=1,min_samples_split=2,oob_score=True,random_state=100)\n",
    "model.fit(X_train,y_train)\n",
    "#Evaluate model\n",
    "training_score =model.score(X_train,y_train)\n",
    "test_score=model.score(X_test,y_test)\n",
    "print('Model training score is:', training_score)\n",
    "print('Model test score is:', test_score)\n",
    "\n",
    "\n",
    "\n",
    "\n"
   ]
  },
  {
   "cell_type": "code",
   "execution_count": null,
   "metadata": {},
   "outputs": [],
   "source": [
    "from sklearn import svm\n",
    "clf = svm.SVR(kernel='linear')\n",
    "\n",
    "clf.fit(X_train, y_train)\n",
    "confidence = clf.score(X_test, y_test)\n",
    "\n",
    "\n",
    "y_pred = clf.predict([[X_test]])\n",
    "y_pred"
   ]
  },
  {
   "cell_type": "code",
   "execution_count": null,
   "metadata": {},
   "outputs": [],
   "source": []
  }
 ],
 "metadata": {
  "kernelspec": {
   "display_name": "Python 3",
   "language": "python",
   "name": "python3"
  },
  "language_info": {
   "codemirror_mode": {
    "name": "ipython",
    "version": 3
   },
   "file_extension": ".py",
   "mimetype": "text/x-python",
   "name": "python",
   "nbconvert_exporter": "python",
   "pygments_lexer": "ipython3",
   "version": "3.7.3"
  }
 },
 "nbformat": 4,
 "nbformat_minor": 2
}
